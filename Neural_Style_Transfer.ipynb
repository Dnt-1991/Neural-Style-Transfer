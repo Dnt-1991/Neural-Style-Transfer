{
  "nbformat": 4,
  "nbformat_minor": 0,
  "metadata": {
    "colab": {
      "name": "Neural Style Transfer",
      "private_outputs": true,
      "provenance": [],
      "collapsed_sections": [],
      "include_colab_link": true
    },
    "kernelspec": {
      "name": "python3",
      "display_name": "Python 3"
    },
    "accelerator": "GPU"
  },
  "cells": [
    {
      "cell_type": "markdown",
      "metadata": {
        "id": "view-in-github",
        "colab_type": "text"
      },
      "source": [
        "<a href=\"https://colab.research.google.com/github/Dnt-1991/Neural-Style-Transfer/blob/main/Neural_Style_Transfer.ipynb\" target=\"_parent\"><img src=\"https://colab.research.google.com/assets/colab-badge.svg\" alt=\"Open In Colab\"/></a>"
      ]
    },
    {
      "cell_type": "markdown",
      "metadata": {
        "id": "i44n6UtVO3_b"
      },
      "source": [
        "###Panoramica\r\n",
        "Utilizzo il deep learning usando il \"neural style transfer\", una tecnica che, utilizzando due immagini di partenza (la prima da modificare e la seconda raffigurante lo stile in cui trasformarla) ottiene una immagine di output  simile alla immagine di partenza ma nello stile della seconda immagine."
      ]
    },
    {
      "cell_type": "markdown",
      "metadata": {
        "id": "JuH-kQfgccyz"
      },
      "source": [
        "### Collego Google Drive"
      ]
    },
    {
      "cell_type": "code",
      "metadata": {
        "id": "4gky5lveKx_V"
      },
      "source": [
        "from google.colab import drive\r\n",
        "drive.mount('/content/drive')"
      ],
      "execution_count": null,
      "outputs": []
    },
    {
      "cell_type": "markdown",
      "metadata": {
        "id": "eqxUicSPUOP6"
      },
      "source": [
        "### Import e configurazione dei percorsi dei file"
      ]
    },
    {
      "cell_type": "code",
      "metadata": {
        "id": "sc1OLbOWhPCO"
      },
      "source": [
        "import matplotlib.pyplot as plt\n",
        "import matplotlib as mpl\n",
        "mpl.rcParams['figure.figsize'] = (10,10)\n",
        "mpl.rcParams['axes.grid'] = False\n",
        "import numpy as np\n",
        "from PIL import Image\n",
        "import time\n",
        "import functools\n",
        "\n",
        "%tensorflow_version 1.x\n",
        "import tensorflow as tf\n",
        "from tensorflow.python.keras.preprocessing import image as kp_image\n",
        "from tensorflow.python.keras import models \n",
        "from tensorflow.python.keras import losses\n",
        "from tensorflow.python.keras import layers\n",
        "from tensorflow.python.keras import backend as K\n",
        "\n",
        "from __future__ import print_function\n",
        "import binascii\n",
        "import struct\n",
        "import scipy\n",
        "import scipy.misc\n",
        "import scipy.cluster \n",
        "\n",
        "#Abilito Eager\n",
        "tf.enable_eager_execution()\n",
        "print(\"Eager execution: {}\".format(tf.executing_eagerly()))"
      ],
      "execution_count": null,
      "outputs": []
    },
    {
      "cell_type": "markdown",
      "metadata": {
        "id": "aGKU3Eh7V12t"
      },
      "source": [
        "Verifica del colore predominante"
      ]
    },
    {
      "cell_type": "code",
      "metadata": {
        "id": "zNevcUgwHw7s"
      },
      "source": [
        "def color_image(img):\r\n",
        "  NUM_OF_CLUSTERS = 5\r\n",
        "\r\n",
        "  imm = Image.open(img)\r\n",
        "  # Per ridurre il tempo di esecuzione\r\n",
        "  imm = imm.resize((300,300))     \r\n",
        "  array = np.asarray(imm)\r\n",
        "  shape = array.shape\r\n",
        "  array = array.reshape(np.product(shape[:2]), shape[2]).astype(float)\r\n",
        "\r\n",
        "  print('finding clusters')\r\n",
        "  codes, distance = scipy.cluster.vq.kmeans(array, NUM_OF_CLUSTERS)\r\n",
        "\r\n",
        "  vectors, distance = scipy.cluster.vq.vq(array, codes)     \r\n",
        "  counts, bins = np.histogram(vectors, len(codes))    \r\n",
        "\r\n",
        "  # Trova il colore più frequente\r\n",
        "  index_max = np.argmax(counts)                   \r\n",
        "  colors = codes[index_max]\r\n",
        "\r\n",
        "  #Cambia il filtro in base ai valori RGB dell'immagine\r\n",
        "  if colors[0] > 100 and colors[1] < 100 and colors[2] < 100:\r\n",
        "    #red\r\n",
        "    print(\"L'immagine tende al rosso\")\r\n",
        "    color = '/content/drive/MyDrive/Colab Notebooks/files/images/filters/abstract.jpg'\r\n",
        "  elif colors[0] < 100 and colors[1] < 100 and colors[2] > 100:\r\n",
        "    #blue\r\n",
        "    print(\"L'immagine tende al blu\")\r\n",
        "    color = '/content/drive/MyDrive/Colab Notebooks/files/images/filters/van_gogh.jpg'\r\n",
        "  elif colors[0] < 100 and colors[1] > 100 and colors[2] < 100:\r\n",
        "    #green\r\n",
        "    print(\"L'immagine tende al verde\")\r\n",
        "    color = '/content/drive/MyDrive/Colab Notebooks/files/images/filters/georgia.jpg'\r\n",
        "  elif colors[0] > 100 and colors[1] < 100 and colors[2] > 100:\r\n",
        "    #violet\r\n",
        "    print(\"L'immagine tende al viola\")\r\n",
        "    color = '/content/drive/MyDrive/Colab Notebooks/files/images/filters/flower.jpg'\r\n",
        "  elif colors[0] > 100 and colors[1] > 100 and colors[2] < 100:\r\n",
        "    #yellow\r\n",
        "    print(\"L'immagine tende al giallo\")\r\n",
        "    color = '/content/drive/MyDrive/Colab Notebooks/files/images/filters/van_gogh2.jpg'\r\n",
        "  elif colors[0] < 100 and colors[1] > 100 and colors[2] > 130:\r\n",
        "    #cyan\r\n",
        "    print(\"L'immagine tende all'azzurro\")\r\n",
        "    color = '/content/drive/MyDrive/Colab Notebooks/files/images/filters/kanagawa.jpg'\r\n",
        "  elif colors[0] < 128 and colors[1] < 128 and colors[2] < 128:\r\n",
        "    #dark\r\n",
        "    print(\"L'immagine tende al nero\")\r\n",
        "    color = '/content/drive/MyDrive/Colab Notebooks/files/images/filters/guernica.jpg'\r\n",
        "  else:\r\n",
        "    #light\r\n",
        "    print(\"L'immagine tende al bianco\")\r\n",
        "    color = '/content/drive/MyDrive/Colab Notebooks/files/images/filters/wave.jpg'\r\n",
        "\r\n",
        "  return color"
      ],
      "execution_count": null,
      "outputs": []
    },
    {
      "cell_type": "code",
      "metadata": {
        "id": "IOiGrIV1iERH"
      },
      "source": [
        "# Immagini di partenza\n",
        "meadow = '/content/drive/MyDrive/Colab Notebooks/files/images/photo/meadow.jpg'\n",
        "cats = '/content/drive/MyDrive/Colab Notebooks/files/images/photo/cats.jpg'\n",
        "city = '/content/drive/MyDrive/Colab Notebooks/files/images/photo/city.jpg'\n",
        "desert = '/content/drive/MyDrive/Colab Notebooks/files/images/photo/desert.jpg'\n",
        "landscape = '/content/drive/MyDrive/Colab Notebooks/files/images/photo/landscape.jpg'\n",
        "roses = '/content/drive/MyDrive/Colab Notebooks/files/images/photo/roses.jpg'\n",
        "sunset = '/content/drive/MyDrive/Colab Notebooks/files/images/photo/sunset.jpg'\n",
        "snow = '/content/drive/MyDrive/Colab Notebooks/files/images/photo/snow.jpg'\n",
        "\n",
        "\n",
        "\n",
        "#Selezione interattiva\n",
        "content_path = landscape #@param [\"meadow\", \"cats\", \"city\" , \"desert\" , \"landscape\", \"roses\" , \"sunset\" , \"snow\" ] {type:\"raw\"}\n",
        "style_path = color_image(content_path)\n",
        "\n",
        "\n",
        "\n"
      ],
      "execution_count": null,
      "outputs": []
    },
    {
      "cell_type": "markdown",
      "metadata": {
        "id": "7qMVNvEsK-_D"
      },
      "source": [
        "## Preprocessing delle immagini\n",
        "Eseguo lo stesso processo di pre-elaborazione previsto da VGG."
      ]
    },
    {
      "cell_type": "code",
      "metadata": {
        "id": "3TLljcwv5qZs"
      },
      "source": [
        "def load_img(path_to_img):\n",
        "  max_dim = 512\n",
        "  img = Image.open(path_to_img)\n",
        "  long = max(img.size)\n",
        "  scale = max_dim/long\n",
        "  img = img.resize((round(img.size[0]*scale), round(img.size[1]*scale)), Image.ANTIALIAS)\n",
        "  img = kp_image.img_to_array(img)\n",
        "  img = np.expand_dims(img, axis=0)\n",
        "  return img\n"
      ],
      "execution_count": null,
      "outputs": []
    },
    {
      "cell_type": "code",
      "metadata": {
        "id": "7xXpxelJYY1P"
      },
      "source": [
        "def imshow(img, title=None):\r\n",
        "  out = np.squeeze(img, axis=0)\r\n",
        "  out = out.astype('uint8')\r\n",
        "  plt.imshow(out)\r\n",
        "  plt.axis(False)\r\n",
        "  if title is not None:\r\n",
        "    plt.title(title)\r\n",
        "  plt.imshow(out)"
      ],
      "execution_count": null,
      "outputs": []
    },
    {
      "cell_type": "code",
      "metadata": {
        "id": "hGwmTwJNmv2a"
      },
      "source": [
        "def load_and_process_img(path_to_img):\n",
        "  img = load_img(path_to_img)\n",
        "  img = tf.keras.applications.vgg19.preprocess_input(img)\n",
        "  return img\n",
        "\n",
        "def deprocess_img(processed_img):\n",
        "  x = processed_img.copy()\n",
        "  if len(x.shape) == 4:\n",
        "    x = np.squeeze(x, 0)\n",
        "  assert len(x.shape) == 3, (\"L'immagine di input deve avere \"\n",
        "                             \"dimensione [1, height, width, channel] o [height, width, channel]\")\n",
        "  if len(x.shape) != 3:\n",
        "    raise ValueError(\"Invalid input\")\n",
        "\n",
        "  x[:, :, 0] += 103.939\n",
        "  x[:, :, 1] += 116.779\n",
        "  x[:, :, 2] += 123.68\n",
        "  x = x[:, :, ::-1]\n",
        "\n",
        "  x = np.clip(x, 0, 255).astype('uint8')\n",
        "  return x"
      ],
      "execution_count": null,
      "outputs": []
    },
    {
      "cell_type": "markdown",
      "metadata": {
        "id": "GEwZ7FlwrjoZ"
      },
      "source": [
        "### Definisci il contenuto e le rappresentazioni di stile\n",
        "Per ottenere sia il contenuto che le rappresentazioni di stile della nostra immagine, esamineremo alcuni livelli intermedi all'interno del nostro modello. Man mano che andiamo più in profondità nel modello, questi strati intermedi rappresentano caratteristiche di ordine sempre più elevato. \n",
        "In questo caso, stiamo utilizzando l'architettura di rete VGG19, una rete di classificazione delle immagini pre-addestrata. \n",
        "Questi strati intermedi sono necessari per definire la rappresentazione del contenuto e dello stile dalle nostre immagini. \n",
        "Per un'immagine di input, proveremo a far corrispondere lo stile e le rappresentazioni di destinazione del contenuto corrispondenti a questi livelli intermedi.\n",
        "\n",
        "Affinché una rete possa eseguire la classificazione delle immagini (cosa che la nostra rete è stata addestrata a fare), deve comprendere l'immagine. \n",
        "Ciò implica prendere l'immagine grezza come pixel di input e costruire una rappresentazione interna attraverso trasformazioni che trasformano i pixel dell'immagine grezza in una complessa comprensione delle caratteristiche presenti all'interno dell'immagine. \n",
        "Questo è anche in parte il motivo per cui le reti neurali convoluzionali sono in grado di generalizzare bene: sono in grado di catturare le invarianze e definire le caratteristiche all'interno delle classi.\n",
        "Il modello funge da estrattore di caratteristiche complesse, quindi, accedendo ai livelli intermedi, siamo in grado di descrivere il contenuto e lo stile delle immagini di input.\n",
        "\n",
        "\n",
        "Nello specifico, rimuoveremo questi livelli intermedi dalla nostra rete:\n"
      ]
    },
    {
      "cell_type": "code",
      "metadata": {
        "id": "N4-8eUp_Kc-j"
      },
      "source": [
        "# Content layer dove verranno estratte le feature maps\n",
        "content_layers = ['block5_conv2'] \n",
        "\n",
        "# Style layer che mi interessano\n",
        "style_layers = ['block1_conv1',\n",
        "                'block2_conv1',\n",
        "                'block3_conv1', \n",
        "                'block4_conv1', \n",
        "                'block5_conv1'\n",
        "               ]\n",
        "\n",
        "num_content_layers = len(content_layers)\n",
        "num_style_layers = len(style_layers)"
      ],
      "execution_count": null,
      "outputs": []
    },
    {
      "cell_type": "markdown",
      "metadata": {
        "id": "Jt3i3RRrJiOX"
      },
      "source": [
        "## Costruire il modello\n",
        "In questo caso, carichiamo [VGG19] (https://keras.io/applications/#vgg19) e alimentiamo il nostro input al modello. "
      ]
    },
    {
      "cell_type": "code",
      "metadata": {
        "id": "nfec6MuMAbPx"
      },
      "source": [
        "def get_model():\n",
        "  \"\"\" Creates our model with access to intermediate layers. \n",
        "  \n",
        "  This function will load the VGG19 model and access the intermediate layers. \n",
        "  These layers will then be used to create a new model that will take input image\n",
        "  and return the outputs from these intermediate layers from the VGG model. \n",
        "  \n",
        "  Returns:\n",
        "    returns a keras model that takes image inputs and outputs the style and \n",
        "      content intermediate layers. \n",
        "  \"\"\"\n",
        "  # Load our model. We load pretrained VGG, trained on imagenet data\n",
        "  vgg = tf.keras.applications.vgg19.VGG19(include_top=False, weights='imagenet')\n",
        "  vgg.trainable = False\n",
        "  # Get output layers corresponding to style and content layers \n",
        "  style_outputs = [vgg.get_layer(name).output for name in style_layers]\n",
        "  content_outputs = [vgg.get_layer(name).output for name in content_layers]\n",
        "  model_outputs = style_outputs + content_outputs\n",
        "  # Build model \n",
        "  return models.Model(vgg.input, model_outputs)"
      ],
      "execution_count": null,
      "outputs": []
    },
    {
      "cell_type": "code",
      "metadata": {
        "id": "d2mf7JwRMkCd"
      },
      "source": [
        "def get_content_loss(base_content, target):\n",
        "  return tf.reduce_mean(tf.square(base_content - target))"
      ],
      "execution_count": null,
      "outputs": []
    },
    {
      "cell_type": "code",
      "metadata": {
        "id": "N7MOqwKLLke8"
      },
      "source": [
        "def gram_matrix(input_tensor):\n",
        "  # We make the image channels first \n",
        "  channels = int(input_tensor.shape[-1])\n",
        "  a = tf.reshape(input_tensor, [-1, channels])\n",
        "  n = tf.shape(a)[0]\n",
        "  gram = tf.matmul(a, a, transpose_a=True)\n",
        "  return gram / tf.cast(n, tf.float32)\n",
        "\n",
        "def get_style_loss(base_style, gram_target):\n",
        "  \"\"\"Expects two images of dimension h, w, c\"\"\"\n",
        "  # height, width, num filters of each layer\n",
        "  # We scale the loss at a given layer by the size of the feature map and the number of filters\n",
        "  height, width, channels = base_style.get_shape().as_list()\n",
        "  gram_style = gram_matrix(base_style)\n",
        "  \n",
        "  return tf.reduce_mean(tf.square(gram_style - gram_target))# / (4. * (channels ** 2) * (width * height) ** 2)"
      ],
      "execution_count": null,
      "outputs": []
    },
    {
      "cell_type": "markdown",
      "metadata": {
        "id": "pXIUX6czZABh"
      },
      "source": [
        "## Style transfer\n"
      ]
    },
    {
      "cell_type": "markdown",
      "metadata": {
        "id": "y9r8Lyjb_m0u"
      },
      "source": [
        "### Esegui Gradient Descent\n",
        "\n",
        "In questo caso, utilizziamo l'ottimizzatore [Adam] (https://www.tensorflow.org/api_docs/python/tf/keras/optimizers/Adam) * per ridurre al minimo le nostre perdite. Aggiorniamo iterativamente la nostra immagine di output in modo da ridurre al minimo la nostra perdita."
      ]
    },
    {
      "cell_type": "code",
      "metadata": {
        "id": "O-lj5LxgtmnI"
      },
      "source": [
        "def get_feature_representations(model, content_path, style_path):\n",
        "  \"\"\"Helper function to compute our content and style feature representations.\n",
        "\n",
        "  This function will simply load and preprocess both the content and style \n",
        "  images from their path. Then it will feed them through the network to obtain\n",
        "  the outputs of the intermediate layers. \n",
        "  \n",
        "  Arguments:\n",
        "    model: The model that we are using.\n",
        "    content_path: The path to the content image.\n",
        "    style_path: The path to the style image\n",
        "    \n",
        "  Returns:\n",
        "    returns the style features and the content features. \n",
        "  \"\"\"\n",
        "  # Load our images in \n",
        "  content_image = load_and_process_img(content_path)\n",
        "  style_image = load_and_process_img(style_path)\n",
        "  \n",
        "  # batch compute content and style features\n",
        "  style_outputs = model(style_image)\n",
        "  content_outputs = model(content_image)\n",
        "  \n",
        "  \n",
        "  # Get the style and content feature representations from our model  \n",
        "  style_features = [style_layer[0] for style_layer in style_outputs[:num_style_layers]]\n",
        "  content_features = [content_layer[0] for content_layer in content_outputs[num_style_layers:]]\n",
        "  return style_features, content_features"
      ],
      "execution_count": null,
      "outputs": []
    },
    {
      "cell_type": "markdown",
      "metadata": {
        "id": "3DopXw7-lFHa"
      },
      "source": [
        "### Calcolo della perdita e dei gradienti\n",
        "Qui usiamo [** tf.GradientTape **] (https://www.tensorflow.org/programmers_guide/eager#computing_gradients) per calcolare il gradiente."
      ]
    },
    {
      "cell_type": "code",
      "metadata": {
        "id": "oVDhSo8iJunf"
      },
      "source": [
        "def compute_loss(model, loss_weights, init_image, gram_style_features, content_features):\n",
        "  \"\"\"This function will compute the loss total loss.\n",
        "  \n",
        "  Arguments:\n",
        "    model: The model that will give us access to the intermediate layers\n",
        "    loss_weights: The weights of each contribution of each loss function. \n",
        "      (style weight, content weight, and total variation weight)\n",
        "    init_image: Our initial base image. This image is what we are updating with \n",
        "      our optimization process. We apply the gradients wrt the loss we are \n",
        "      calculating to this image.\n",
        "    gram_style_features: Precomputed gram matrices corresponding to the \n",
        "      defined style layers of interest.\n",
        "    content_features: Precomputed outputs from defined content layers of \n",
        "      interest.\n",
        "      \n",
        "  Returns:\n",
        "    returns the total loss, style loss, content loss, and total variational loss\n",
        "  \"\"\"\n",
        "  style_weight, content_weight = loss_weights\n",
        "  \n",
        "  # Feed our init image through our model. This will give us the content and \n",
        "  # style representations at our desired layers. Since we're using eager\n",
        "  # our model is callable just like any other function!\n",
        "  model_outputs = model(init_image)\n",
        "  \n",
        "  style_output_features = model_outputs[:num_style_layers]\n",
        "  content_output_features = model_outputs[num_style_layers:]\n",
        "  \n",
        "  style_score = 0\n",
        "  content_score = 0\n",
        "\n",
        "  # Accumulate style losses from all layers\n",
        "  # Here, we equally weight each contribution of each loss layer\n",
        "  weight_per_style_layer = 1.0 / float(num_style_layers)\n",
        "  for target_style, comb_style in zip(gram_style_features, style_output_features):\n",
        "    style_score += weight_per_style_layer * get_style_loss(comb_style[0], target_style)\n",
        "    \n",
        "  # Accumulate content losses from all layers \n",
        "  weight_per_content_layer = 1.0 / float(num_content_layers)\n",
        "  for target_content, comb_content in zip(content_features, content_output_features):\n",
        "    content_score += weight_per_content_layer* get_content_loss(comb_content[0], target_content)\n",
        "  \n",
        "  style_score *= style_weight\n",
        "  content_score *= content_weight\n",
        "\n",
        "  # Get total loss\n",
        "  loss = style_score + content_score \n",
        "  return loss, style_score, content_score"
      ],
      "execution_count": null,
      "outputs": []
    },
    {
      "cell_type": "code",
      "metadata": {
        "id": "fwzYeOqOUH9_"
      },
      "source": [
        "def compute_grads(cfg):\n",
        "  with tf.GradientTape() as tape: \n",
        "    all_loss = compute_loss(**cfg)\n",
        "  # Compute gradients wrt input image\n",
        "  total_loss = all_loss[0]\n",
        "  return tape.gradient(total_loss, cfg['init_image']), all_loss"
      ],
      "execution_count": null,
      "outputs": []
    },
    {
      "cell_type": "markdown",
      "metadata": {
        "id": "T9yKu2PLlBIE"
      },
      "source": [
        "### Optimization loop"
      ]
    },
    {
      "cell_type": "code",
      "metadata": {
        "id": "pj_enNo6tACQ"
      },
      "source": [
        "import IPython.display\n",
        "\n",
        "def run_style_transfer(content_path, style_path,num_iterations=1000,content_weight=1e3, style_weight=1e-2): \n",
        "\n",
        "  # We don't need to train any layers of our model, so we set their trainable to false. \n",
        "  model = get_model() \n",
        "  for layer in model.layers:\n",
        "    layer.trainable = False\n",
        "  \n",
        "  # Get the style and content feature representations (from our specified intermediate layers) \n",
        "  style_features, content_features = get_feature_representations(model, content_path, style_path)\n",
        "  gram_style_features = [gram_matrix(style_feature) for style_feature in style_features]\n",
        "  \n",
        "  # Set initial image\n",
        "  init_image = load_and_process_img(content_path)\n",
        "  init_image = tf.Variable(init_image, dtype=tf.float32)\n",
        "  # Create our optimizer\n",
        "  opt = tf.train.AdamOptimizer(learning_rate=5, beta1=0.99, epsilon=1e-1)\n",
        "\n",
        "  # For displaying intermediate images \n",
        "  iter_count = 1\n",
        "  \n",
        "  # Store our best result\n",
        "  best_loss, best_img = float('inf'), None\n",
        "  \n",
        "  # Create a nice config \n",
        "  loss_weights = (style_weight, content_weight)\n",
        "  cfg = {\n",
        "      'model': model,\n",
        "      'loss_weights': loss_weights,\n",
        "      'init_image': init_image,\n",
        "      'gram_style_features': gram_style_features,\n",
        "      'content_features': content_features\n",
        "  }\n",
        "    \n",
        "  # For displaying\n",
        "  num_rows = 2\n",
        "  num_cols = 5\n",
        "  display_interval = num_iterations/(num_rows*num_cols)\n",
        "  start_time = time.time()\n",
        "  global_start = time.time()\n",
        "  \n",
        "  norm_means = np.array([103.939, 116.779, 123.68])\n",
        "  min_vals = -norm_means\n",
        "  max_vals = 255 - norm_means   \n",
        "  \n",
        "  imgs = []\n",
        "  for i in range(num_iterations):\n",
        "    grads, all_loss = compute_grads(cfg)\n",
        "    loss, style_score, content_score = all_loss\n",
        "    opt.apply_gradients([(grads, init_image)])\n",
        "    clipped = tf.clip_by_value(init_image, min_vals, max_vals)\n",
        "    init_image.assign(clipped)\n",
        "    end_time = time.time() \n",
        "    \n",
        "    if loss < best_loss:\n",
        "      # Update best loss and best image from total loss. \n",
        "      best_loss = loss\n",
        "      best_img = deprocess_img(init_image.numpy())\n",
        "\n",
        "    if i % display_interval== 0:\n",
        "      start_time = time.time()\n",
        "      \n",
        "      # Use the .numpy() method to get the concrete numpy array\n",
        "      plot_img = init_image.numpy()\n",
        "      plot_img = deprocess_img(plot_img)\n",
        "      imgs.append(plot_img)\n",
        "      IPython.display.clear_output(wait=True)\n",
        "      IPython.display.display_png(Image.fromarray(plot_img))\n",
        "      print('Iteration: {}'.format(i))        \n",
        "      print('Total loss: {:.4e}, ' \n",
        "            'style loss: {:.4e}, '\n",
        "            'content loss: {:.4e}, '\n",
        "            'time: {:.4f}s'.format(loss, style_score, content_score, time.time() - start_time))\n",
        "  print('Total time: {:.4f}s'.format(time.time() - global_start))\n",
        "  IPython.display.clear_output(wait=True)\n",
        "  plt.figure(figsize=(14,4))\n",
        "  for i,img in enumerate(imgs):\n",
        "      plt.subplot(num_rows,num_cols,i+1)\n",
        "      plt.imshow(img)\n",
        "      plt.xticks([])\n",
        "      plt.yticks([])\n",
        "      \n",
        "  return best_img, best_loss "
      ],
      "execution_count": null,
      "outputs": []
    },
    {
      "cell_type": "code",
      "metadata": {
        "id": "lqTQN1PjulV9"
      },
      "source": [
        "def show_results(best_img, content_path, style_path, show_large_final=True):\n",
        "  plt.figure(figsize=(10, 5))\n",
        "  content = load_img(content_path) \n",
        "  style = load_img(style_path)\n",
        "\n",
        "  plt.subplot(1, 2, 1)\n",
        "  imshow(content, 'Immagine di partenza')\n",
        "\n",
        "  plt.subplot(1, 2, 2)\n",
        "  imshow(style, 'Stile applicato')\n",
        "\n",
        "  if show_large_final: \n",
        "    plt.figure(figsize=(10, 10))\n",
        "\n",
        "    plt.imshow(best_img)\n",
        "    plt.title('Immagine finale')\n",
        "    plt.show()"
      ],
      "execution_count": null,
      "outputs": []
    },
    {
      "cell_type": "markdown",
      "metadata": {
        "id": "Y3wXbC6BUQKH"
      },
      "source": [
        "##Risultati\r\n"
      ]
    },
    {
      "cell_type": "code",
      "metadata": {
        "id": "F5mxBUvBTV_K"
      },
      "source": [
        "plt.figure(figsize=(25,25))\r\n",
        "\r\n",
        "content = load_img(content_path).astype('uint8')\r\n",
        "style = load_img(style_path).astype('uint8')\r\n",
        "\r\n",
        "plt.subplot(1, 2, 1)\r\n",
        "imshow(content, 'Immagine di partenza')\r\n",
        "\r\n",
        "plt.subplot(1, 2, 2)\r\n",
        "imshow(style, 'Stile selezionato')\r\n",
        "\r\n",
        "plt.show()"
      ],
      "execution_count": null,
      "outputs": []
    },
    {
      "cell_type": "code",
      "metadata": {
        "id": "NzrxZnevTfVY"
      },
      "source": [
        "best, best_loss = run_style_transfer(content_path, \r\n",
        "                                     style_path, num_iterations=1000)\r\n",
        "Image.fromarray(best)\r\n",
        "show_results(best, content_path, style_path)\r\n"
      ],
      "execution_count": null,
      "outputs": []
    }
  ]
}